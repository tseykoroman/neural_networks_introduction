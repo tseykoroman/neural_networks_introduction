{
  "cells": [
    {
      "cell_type": "markdown",
      "metadata": {
        "id": "dde_Ul09bf2c"
      },
      "source": [
        "# Введение в искусственные нейронные сети"
      ]
    },
    {
      "cell_type": "markdown",
      "metadata": {
        "id": "IBBj_scsbf2j"
      },
      "source": [
        "# Урок 4. Сверточные нейронные сети"
      ]
    },
    {
      "cell_type": "markdown",
      "metadata": {
        "id": "PUkI-EWSbf2m"
      },
      "source": [
        "# <font color='blue'>Практическое задание</font>"
      ]
    },
    {
      "cell_type": "markdown",
      "metadata": {
        "id": "TgsyJnjybf2n"
      },
      "source": [
        "Вариант 1. (простой)\n",
        "\n",
        "- обучить сверточную нейронную сеть в стиле AlexNet (с падением размера ядра свертки и последовательностью блоков свертка-пулинг  (conv-pool)-(conv-pool)-...) на датасете fashion-mnist или cifar10\n",
        "- оценить рост точности при увеличении ширины сети (больше ядер)\n",
        "- оценить рост точности при увеличении глубины сети (больше слоев)\n",
        "- (опционально) сравнить с точностью полносвязной сети для этой выборки\n",
        "Вариант 2. (сложный)\n",
        "- реализовать нейронную сеть или стек из сверток (Concatenate) на сifar10.\n",
        "- оценить рост точности при увеличении ширины сети (больше ядер), больше нитей.\n",
        "- оценить рост точности при увеличении глубины сети (больше слоев)\n"
      ]
    },
    {
      "cell_type": "markdown",
      "metadata": {
        "id": "ljxOFO04mqbC"
      },
      "source": [
        "# Сеть AlexNet "
      ]
    },
    {
      "cell_type": "code",
      "execution_count": null,
      "metadata": {
        "id": "J7fg7HyTmyZ4"
      },
      "outputs": [],
      "source": [
        "from __future__ import print_function\n",
        "\n",
        "import numpy as np\n",
        "import pandas as pd\n",
        "import matplotlib.pyplot as plt\n",
        "\n",
        "import tensorflow as tf\n",
        "import tensorflow.keras as keras # расскоментируйте эту строку, чтобы начать обучение\n",
        "\n",
        "\n",
        "from tensorflow.keras.preprocessing.image import ImageDataGenerator\n",
        "\n",
        "from tensorflow.keras.models import Sequential, Model\n",
        "\n",
        "from tensorflow.keras.layers import Dense, Dropout, Activation, Flatten, BatchNormalization\n",
        "from tensorflow.keras.layers import Conv2D, Input  # Convolution (сверточный) слой\n",
        "from tensorflow.keras.layers import GlobalMaxPooling2D, MaxPooling2D, AveragePooling2D, GlobalAveragePooling2D, BatchNormalization  \n",
        "# Pooling слои\n",
        "\n",
        "import os"
      ]
    },
    {
      "cell_type": "code",
      "execution_count": null,
      "metadata": {
        "id": "KUBGMp79HxYS"
      },
      "outputs": [],
      "source": [
        "# Цветной датасет 10 классов, картинки 32x32 с цветными изображениями\n",
        "# Есть cifar100 - 100 классов\n",
        "from tensorflow.keras.datasets import cifar10"
      ]
    },
    {
      "cell_type": "code",
      "execution_count": null,
      "metadata": {
        "id": "1PH_oMUGDwup"
      },
      "outputs": [],
      "source": [
        "# установка параметров нейросети\n",
        "batch_size = 32\n",
        "num_classes = 10\n",
        "epochs = 10\n",
        "data_augmentation = False\n",
        "num_predictions = 20\n",
        "model_name = 'keras_cifar10_trained_model.h5'"
      ]
    },
    {
      "cell_type": "code",
      "execution_count": null,
      "metadata": {
        "id": "AwiknCOym1IW"
      },
      "outputs": [],
      "source": [
        "# Название классов из набора cifar10\n",
        "classes=['самолет', 'автомобиль', 'птица', 'кот', 'олень', 'собака', 'лягушка', 'лошадь', 'корабль', 'грузовик']"
      ]
    },
    {
      "cell_type": "code",
      "execution_count": null,
      "metadata": {
        "colab": {
          "base_uri": "https://localhost:8080/"
        },
        "id": "jl46k25BIbjK",
        "outputId": "3b01884a-5291-4975-863b-9822b92abab2"
      },
      "outputs": [
        {
          "name": "stdout",
          "output_type": "stream",
          "text": [
            "Downloading data from https://www.cs.toronto.edu/~kriz/cifar-10-python.tar.gz\n",
            "170500096/170498071 [==============================] - 4s 0us/step\n",
            "170508288/170498071 [==============================] - 4s 0us/step\n",
            "x_train shape: (50000, 32, 32, 3)\n",
            "50000 тренировочные примеры\n",
            "10000 тестовые примеры\n"
          ]
        }
      ],
      "source": [
        "# разделение тренировочной и тестовой выборки\n",
        "(x_train, y_train), (x_test, y_test) = cifar10.load_data()\n",
        "print('x_train shape:', x_train.shape)\n",
        "print(x_train.shape[0], 'тренировочные примеры')\n",
        "print(x_test.shape[0], 'тестовые примеры')\n",
        "\n",
        "# преобразование матрицы чисел 0-9 в бинарную матрицу чисел 0-1\n",
        "y_train = keras.utils.to_categorical(y_train, num_classes)\n",
        "y_test = keras.utils.to_categorical(y_test, num_classes)\n",
        "\n",
        "\n",
        "x_train = x_train.astype('float32')\n",
        "x_test = x_test.astype('float32')\n",
        "x_train /= 255\n",
        "x_test /= 255"
      ]
    },
    {
      "cell_type": "code",
      "execution_count": null,
      "metadata": {
        "colab": {
          "base_uri": "https://localhost:8080/"
        },
        "id": "iAxD2kb-RIZj",
        "outputId": "6f6366bd-61a7-4839-cf25-387563fb06e3"
      },
      "outputs": [
        {
          "data": {
            "text/plain": [
              "(6, 'лягушка', array([0., 0., 0., 0., 0., 0., 1., 0., 0., 0.], dtype=float32))"
            ]
          },
          "execution_count": 11,
          "metadata": {},
          "output_type": "execute_result"
        }
      ],
      "source": [
        "np.argmax(y_train[0]), classes[int(np.argmax(y_train[0]))], y_train[0]"
      ]
    },
    {
      "cell_type": "code",
      "execution_count": null,
      "metadata": {
        "colab": {
          "base_uri": "https://localhost:8080/",
          "height": 864
        },
        "id": "TEmgENBYD1T2",
        "outputId": "bb01a21b-f8cb-4811-d316-7612a208a5df"
      },
      "outputs": [
        {
          "data": {
            "image/png": "[encoded data removed]",
            "text/plain": [
              "<Figure size 936x1080 with 25 Axes>"
            ]
          },
          "metadata": {
            "needs_background": "light"
          },
          "output_type": "display_data"
        }
      ],
      "source": [
        "# First 25 images in the train dataset\n",
        "plt.figure(figsize = (13, 15))\n",
        "for i in range(25):\n",
        "    image = x_train[i,:,:]\n",
        "    image = np.array(image)\n",
        "    plt.subplot(5, 5, i+1)\n",
        "    # plt.title(str(y_train[i]) + ' - ' + classes[int(y_train[i])])\n",
        "    plt.title(str(np.argmax(y_train[i])+1) + ' - ' + classes[np.argmax(y_train[i])])\n",
        "    plt.imshow(image)\n",
        "    # plt.axis('off')\n",
        "plt.show() "
      ]
    },
    {
      "cell_type": "code",
      "execution_count": null,
      "metadata": {
        "colab": {
          "base_uri": "https://localhost:8080/",
          "height": 281
        },
        "id": "FKTOTsWlm5Xy",
        "outputId": "3e01ed29-0258-4965-c492-5420e06a1dd4"
      },
      "outputs": [
        {
          "data": {
            "image/png": "[encoded data removed]",
            "text/plain": [
              "<Figure size 432x288 with 1 Axes>"
            ]
          },
          "metadata": {
            "needs_background": "light"
          },
          "output_type": "display_data"
        }
      ],
      "source": [
        "N = 9013\n",
        "# N = 913\n",
        "\n",
        "plt.imshow(x_test[N][:,:,:])\n",
        "plt.title('это : ' + classes[np.argmax(y_test[N,:])])\n",
        "plt.show()"
      ]
    },
    {
      "cell_type": "markdown",
      "metadata": {
        "id": "qjhKM8kmDCz7"
      },
      "source": [
        "# Сеть AlexNet \n",
        "\n",
        "\n",
        "1:56:00"
      ]
    },
    {
      "cell_type": "markdown",
      "metadata": {
        "id": "sxtSNXS0DH_C"
      },
      "source": [
        "\n",
        "\n",
        "- Convolution - свертка\n",
        "- Subsampling - Подвыборка\n",
        "- Full connection - Полное подключение\n",
        "- Gaussian connecttings - Гауссовы соединения\n",
        "- Overlapping - перекрытие\n",
        "- dropout - выбывать\n",
        "- max-pooling"
      ]
    },
    {
      "cell_type": "code",
      "execution_count": null,
      "metadata": {
        "id": "AUvFYMYlGBCf"
      },
      "outputs": [],
      "source": [
        "# установка параметров нейросети\n",
        "# batch_size = 1024\n",
        "batch_size = 32\n",
        "num_classes = 10\n",
        "epochs = 10\n",
        "data_augmentation = False\n",
        "num_predictions = 20\n",
        "model_name = 'keras_cifar10_trained_model.h5'"
      ]
    },
    {
      "cell_type": "markdown",
      "metadata": {
        "id": "QVub3kyyDTfS"
      },
      "source": [
        "###### Базовая модель ( по аналогии как из 4 лекции)"
      ]
    },
    {
      "cell_type": "markdown",
      "metadata": {
        "id": "CLsehiBr7mJW"
      },
      "source": [
        " # Базовая модель"
      ]
    },
    {
      "cell_type": "code",
      "execution_count": null,
      "metadata": {
        "colab": {
          "base_uri": "https://localhost:8080/"
        },
        "id": "KTd_J6tfb_pv",
        "outputId": "81fb43a7-e7c0-478e-f001-6b94f49f5dd2"
      },
      "outputs": [
        {
          "name": "stdout",
          "output_type": "stream",
          "text": [
            "Model: \"sequential\"\n",
            "_________________________________________________________________\n",
            " Layer (type)                Output Shape              Param #   \n",
            "=================================================================\n",
            " conv2d (Conv2D)             (None, 32, 32, 32)        11648     \n",
            "                                                                 \n",
            " batch_normalization (BatchN  (None, 32, 32, 32)       128       \n",
            " ormalization)                                                   \n",
            "                                                                 \n",
            " max_pooling2d (MaxPooling2D  (None, 15, 15, 32)       0         \n",
            " )                                                               \n",
            "                                                                 \n",
            " dropout (Dropout)           (None, 15, 15, 32)        0         \n",
            "                                                                 \n",
            " conv2d_1 (Conv2D)           (None, 8, 8, 32)          65568     \n",
            "                                                                 \n",
            " batch_normalization_1 (Batc  (None, 8, 8, 32)         128       \n",
            " hNormalization)                                                 \n",
            "                                                                 \n",
            " max_pooling2d_1 (MaxPooling  (None, 3, 3, 32)         0         \n",
            " 2D)                                                             \n",
            "                                                                 \n",
            " dropout_1 (Dropout)         (None, 3, 3, 32)          0         \n",
            "                                                                 \n",
            " conv2d_2 (Conv2D)           (None, 3, 3, 32)          25632     \n",
            "                                                                 \n",
            " batch_normalization_2 (Batc  (None, 3, 3, 32)         128       \n",
            " hNormalization)                                                 \n",
            "                                                                 \n",
            " max_pooling2d_2 (MaxPooling  (None, 1, 1, 32)         0         \n",
            " 2D)                                                             \n",
            "                                                                 \n",
            " dropout_2 (Dropout)         (None, 1, 1, 32)          0         \n",
            "                                                                 \n",
            " flatten (Flatten)           (None, 32)                0         \n",
            "                                                                 \n",
            " dense (Dense)               (None, 512)               16896     \n",
            "                                                                 \n",
            " dropout_3 (Dropout)         (None, 512)               0         \n",
            "                                                                 \n",
            " dense_1 (Dense)             (None, 10)                5130      \n",
            "                                                                 \n",
            "=================================================================\n",
            "Total params: 125,258\n",
            "Trainable params: 125,066\n",
            "Non-trainable params: 192\n",
            "_________________________________________________________________\n"
          ]
        }
      ],
      "source": [
        "# конфигурирование слоев нейросети\n",
        "model = Sequential([\n",
        "                    \n",
        "    # слои нейросети отвественные за свертку и max-pooling\n",
        "    Conv2D(filters=32,  # количество фильтров - эквивалентно кол-ву нейронов (ширина слоя)!!!\n",
        "        kernel_size=(11, 11),  # кортеж, размер ядра фильтра (размер фильтра по осям, апертура фильтра)\n",
        "        strides=(1, 1),   # шаг применения фильтра к пикселам (пропуск пикселов) - вместо пулинга\n",
        "        input_shape=x_train.shape[1:],\n",
        "        activation='relu',  # активация\n",
        "        padding='same'),\n",
        "    BatchNormalization(),\n",
        "    MaxPooling2D(pool_size=(3, 3), strides=(2, 2)),\n",
        "    Dropout( 0.25),\n",
        "\n",
        "    Conv2D(filters=32,  # количество фильтров - эквивалентно кол-ву нейронов (ширина слоя)!!!\n",
        "        kernel_size=(8, 8),  # кортеж размер ядра фильтра (размер фильтра по осям, апертура фильтра)\n",
        "        strides=(1, 1),   # шаг применения фильтра к пикселам (пропуск пикселов) - вместо пулинга\n",
        "        input_shape=x_train.shape[1:],\n",
        "        activation='relu'  # активация\n",
        "      ),\n",
        "    BatchNormalization(),\n",
        "    MaxPooling2D(pool_size=(3, 3), strides=(2, 2)),\n",
        "    Dropout( 0.25),\n",
        "    \n",
        "    Conv2D(filters=32, kernel_size=(5, 5), strides=(1,1), activation='relu', padding=\"same\"),\n",
        "    BatchNormalization(),\n",
        "    MaxPooling2D(pool_size=(3,3), strides=(2, 2)),\n",
        "    Dropout( 0.25),\n",
        "\n",
        "    # Conv2D(filters=32, kernel_size=(3, 3), strides=(1,1), activation='relu'),\n",
        "    # BatchNormalization(),\n",
        "    # MaxPooling2D(pool_size=(3,3), strides=(2, 2)),\n",
        "    # Dropout(0.25),\n",
        "    \n",
        "    # Из конволютивного слоя нельзя передать информацию в плотный слой без векторизации\n",
        "    # поэтому используем layers.Flatten() чтоб не делать reshape, сглаживание CNN выхода,\n",
        "    # чтобы можно было его присоединить к полносвязногому слою.\n",
        "\n",
        "    # полносвязные слои нейронной сети\n",
        "    Flatten(),\n",
        "    Dense(512, activation='relu'),\n",
        "    Dropout(0.5),\n",
        "    Dense(num_classes, activation='softmax'),\n",
        "])\n",
        "\n",
        "# инициализация RMSprop optimizer\n",
        "#opt = tensorflow.keras.optimizers.RMSprop(lr=0.0001, decay=1e-6)\n",
        "\n",
        "# компиляция модели\n",
        "model.compile(loss='categorical_crossentropy',\n",
        "              optimizer='SGD',\n",
        "              metrics=['accuracy'])\n",
        "\n",
        "model.summary()"
      ]
    },
    {
      "cell_type": "code",
      "execution_count": null,
      "metadata": {
        "colab": {
          "base_uri": "https://localhost:8080/"
        },
        "id": "t-cT416dJoGj",
        "outputId": "cb45dcd7-b4a0-478e-9b4f-c42af200adf4"
      },
      "outputs": [
        {
          "data": {
            "text/plain": [
              "(512, 10)"
            ]
          },
          "execution_count": 19,
          "metadata": {},
          "output_type": "execute_result"
        }
      ],
      "source": [
        "w_old = model.layers[-1].get_weights()\n",
        "# Ядро 3x3\n",
        "w_old[0].shape  # смотрим на одно ядро размер 3x3, 1 слой на входе, 1-но ядро на выходе\n",
        "# (3, 3, 1, 1)\n"
      ]
    },
    {
      "cell_type": "code",
      "execution_count": null,
      "metadata": {
        "colab": {
          "base_uri": "https://localhost:8080/"
        },
        "id": "GHdkb9qqbf2p",
        "outputId": "96e61a4a-cf02-42e1-85e0-2c9fe38f6e7f"
      },
      "outputs": [
        {
          "name": "stdout",
          "output_type": "stream",
          "text": [
            "Не используется data augmentation\n",
            "Epoch 1/10\n",
            "1563/1563 [==============================] - 290s 185ms/step - loss: 1.8987 - accuracy: 0.2925 - val_loss: 4.4334 - val_accuracy: 0.1073\n",
            "Epoch 2/10\n",
            "1563/1563 [==============================] - 308s 197ms/step - loss: 1.6138 - accuracy: 0.4043 - val_loss: 1.7843 - val_accuracy: 0.3455\n",
            "Epoch 3/10\n",
            "1563/1563 [==============================] - 320s 205ms/step - loss: 1.4993 - accuracy: 0.4559 - val_loss: 1.5599 - val_accuracy: 0.4426\n",
            "Epoch 4/10\n",
            "1563/1563 [==============================] - 313s 200ms/step - loss: 1.4235 - accuracy: 0.4868 - val_loss: 1.7220 - val_accuracy: 0.4057\n",
            "Epoch 5/10\n",
            "1563/1563 [==============================] - 308s 197ms/step - loss: 1.3724 - accuracy: 0.5060 - val_loss: 1.6774 - val_accuracy: 0.4163\n",
            "Epoch 6/10\n",
            "1563/1563 [==============================] - 297s 190ms/step - loss: 1.3273 - accuracy: 0.5247 - val_loss: 1.9099 - val_accuracy: 0.3840\n",
            "Epoch 7/10\n",
            "1563/1563 [==============================] - 288s 184ms/step - loss: 1.2898 - accuracy: 0.5391 - val_loss: 1.2996 - val_accuracy: 0.5486\n",
            "Epoch 8/10\n",
            "1563/1563 [==============================] - 291s 186ms/step - loss: 1.2595 - accuracy: 0.5504 - val_loss: 1.3435 - val_accuracy: 0.5127\n",
            "Epoch 9/10\n",
            "1563/1563 [==============================] - 302s 193ms/step - loss: 1.2317 - accuracy: 0.5611 - val_loss: 1.3229 - val_accuracy: 0.5279\n",
            "Epoch 10/10\n",
            "1563/1563 [==============================] - 288s 184ms/step - loss: 1.2025 - accuracy: 0.5755 - val_loss: 1.1647 - val_accuracy: 0.5800\n"
          ]
        }
      ],
      "source": [
        "  summary_data = pd.DataFrame(columns=['layers', 'neurons', 'loss', 'accuracy', 'val_loss', 'val_accuracy'])\n",
        "\n",
        "  print('Не используется data augmentation')\n",
        "  hist = model.fit(x_train, y_train,\n",
        "            batch_size=batch_size,\n",
        "            epochs=epochs,\n",
        "            validation_data=(x_test, y_test),\n",
        "            shuffle=True)"
      ]
    },
    {
      "cell_type": "code",
      "execution_count": null,
      "metadata": {
        "id": "hFWwU9gAMrIr"
      },
      "outputs": [],
      "source": []
    },
    {
      "cell_type": "code",
      "execution_count": null,
      "metadata": {
        "colab": {
          "base_uri": "https://localhost:8080/",
          "height": 154
        },
        "id": "h0U-mAUSrqgt",
        "outputId": "a6e7f85d-ee5b-42cb-bfca-6209831adf43"
      },
      "outputs": [
        {
          "name": "stdout",
          "output_type": "stream",
          "text": [
            "1563/1563 [==============================] - 66s 43ms/step - loss: 1.1132 - accuracy: 0.6015\n",
            "313/313 [==============================] - 13s 42ms/step - loss: 1.1647 - accuracy: 0.5800\n",
            "Test loss: 1.164689302444458\n",
            "Test accuracy: 0.5799999833106995\n"
          ]
        },
        {
          "data": {
            "text/html": [
              "\n",
              "  <div id=\"df-7ccda018-3b24-429f-9b2d-f81591440937\">\n",
              "    <div class=\"colab-df-container\">\n",
              "      <div>\n",
              "<style scoped>\n",
              "    .dataframe tbody tr th:only-of-type {\n",
              "        vertical-align: middle;\n",
              "    }\n",
              "\n",
              "    .dataframe tbody tr th {\n",
              "        vertical-align: top;\n",
              "    }\n",
              "\n",
              "    .dataframe thead th {\n",
              "        text-align: right;\n",
              "    }\n",
              "</style>\n",
              "<table border=\"1\" class=\"dataframe\">\n",
              "  <thead>\n",
              "    <tr style=\"text-align: right;\">\n",
              "      <th></th>\n",
              "      <th>layers</th>\n",
              "      <th>neurons</th>\n",
              "      <th>loss</th>\n",
              "      <th>accuracy</th>\n",
              "      <th>val_loss</th>\n",
              "      <th>val_accuracy</th>\n",
              "    </tr>\n",
              "  </thead>\n",
              "  <tbody>\n",
              "    <tr>\n",
              "      <th>Базовая модель</th>\n",
              "      <td>3</td>\n",
              "      <td>32</td>\n",
              "      <td>1.1132</td>\n",
              "      <td>0.60148</td>\n",
              "      <td>1.16469</td>\n",
              "      <td>0.58</td>\n",
              "    </tr>\n",
              "  </tbody>\n",
              "</table>\n",
              "</div>\n",
              "      <button class=\"colab-df-convert\" onclick=\"convertToInteractive('df-7ccda018-3b24-429f-9b2d-f81591440937')\"\n",
              "              title=\"Convert this dataframe to an interactive table.\"\n",
              "              style=\"display:none;\">\n",
              "        \n",
              "  <svg xmlns=\"http://www.w3.org/2000/svg\" height=\"24px\"viewBox=\"0 0 24 24\"\n",
              "       width=\"24px\">\n",
              "    <path d=\"M0 0h24v24H0V0z\" fill=\"none\"/>\n",
              "    <path d=\"M18.56 5.44l.94 2.06.94-2.06 2.06-.94-2.06-.94-.94-2.06-.94 2.06-2.06.94zm-11 1L8.5 8.5l.94-2.06 2.06-.94-2.06-.94L8.5 2.5l-.94 2.06-2.06.94zm10 10l.94 2.06.94-2.06 2.06-.94-2.06-.94-.94-2.06-.94 2.06-2.06.94z\"/><path d=\"M17.41 7.96l-1.37-1.37c-.4-.4-.92-.59-1.43-.59-.52 0-1.04.2-1.43.59L10.3 9.45l-7.72 7.72c-.78.78-.78 2.05 0 2.83L4 21.41c.39.39.9.59 1.41.59.51 0 1.02-.2 1.41-.59l7.78-7.78 2.81-2.81c.8-.78.8-2.07 0-2.86zM5.41 20L4 18.59l7.72-7.72 1.47 1.35L5.41 20z\"/>\n",
              "  </svg>\n",
              "      </button>\n",
              "      \n",
              "  <style>\n",
              "    .colab-df-container {\n",
              "      display:flex;\n",
              "      flex-wrap:wrap;\n",
              "      gap: 12px;\n",
              "    }\n",
              "\n",
              "    .colab-df-convert {\n",
              "      background-color: #E8F0FE;\n",
              "      border: none;\n",
              "      border-radius: 50%;\n",
              "      cursor: pointer;\n",
              "      display: none;\n",
              "      fill: #1967D2;\n",
              "      height: 32px;\n",
              "      padding: 0 0 0 0;\n",
              "      width: 32px;\n",
              "    }\n",
              "\n",
              "    .colab-df-convert:hover {\n",
              "      background-color: #E2EBFA;\n",
              "      box-shadow: 0px 1px 2px rgba(60, 64, 67, 0.3), 0px 1px 3px 1px rgba(60, 64, 67, 0.15);\n",
              "      fill: #174EA6;\n",
              "    }\n",
              "\n",
              "    [theme=dark] .colab-df-convert {\n",
              "      background-color: #3B4455;\n",
              "      fill: #D2E3FC;\n",
              "    }\n",
              "\n",
              "    [theme=dark] .colab-df-convert:hover {\n",
              "      background-color: #434B5C;\n",
              "      box-shadow: 0px 1px 3px 1px rgba(0, 0, 0, 0.15);\n",
              "      filter: drop-shadow(0px 1px 2px rgba(0, 0, 0, 0.3));\n",
              "      fill: #FFFFFF;\n",
              "    }\n",
              "  </style>\n",
              "\n",
              "      <script>\n",
              "        const buttonEl =\n",
              "          document.querySelector('#df-7ccda018-3b24-429f-9b2d-f81591440937 button.colab-df-convert');\n",
              "        buttonEl.style.display =\n",
              "          google.colab.kernel.accessAllowed ? 'block' : 'none';\n",
              "\n",
              "        async function convertToInteractive(key) {\n",
              "          const element = document.querySelector('#df-7ccda018-3b24-429f-9b2d-f81591440937');\n",
              "          const dataTable =\n",
              "            await google.colab.kernel.invokeFunction('convertToInteractive',\n",
              "                                                     [key], {});\n",
              "          if (!dataTable) return;\n",
              "\n",
              "          const docLinkHtml = 'Like what you see? Visit the ' +\n",
              "            '<a target=\"_blank\" href=https://colab.research.google.com/notebooks/data_table.ipynb>data table notebook</a>'\n",
              "            + ' to learn more about interactive tables.';\n",
              "          element.innerHTML = '';\n",
              "          dataTable['output_type'] = 'display_data';\n",
              "          await google.colab.output.renderOutput(dataTable, element);\n",
              "          const docLink = document.createElement('div');\n",
              "          docLink.innerHTML = docLinkHtml;\n",
              "          element.appendChild(docLink);\n",
              "        }\n",
              "      </script>\n",
              "    </div>\n",
              "  </div>\n",
              "  "
            ],
            "text/plain": [
              "               layers neurons    loss accuracy val_loss val_accuracy\n",
              "Базовая модель      3      32  1.1132  0.60148  1.16469         0.58"
            ]
          },
          "execution_count": 21,
          "metadata": {},
          "output_type": "execute_result"
        }
      ],
      "source": [
        "# model evaluation for training set\n",
        "loss_metric_train = model.evaluate(x_train, y_train)\n",
        "\n",
        "# проверка работы обученной модели\n",
        "loss_metric_test = model.evaluate(x_test, y_test, verbose=1)\n",
        "\n",
        "print('Test loss:', loss_metric_test[0])\n",
        "print('Test accuracy:', loss_metric_test[1])\n",
        "\n",
        "summary_data.loc[\"Базовая модель\", ['layers', 'neurons', 'loss', 'accuracy', 'val_loss', 'val_accuracy']] = [ 3,  32, loss_metric_train[0], loss_metric_train[1], loss_metric_test[0], loss_metric_test[1]]\n",
        "summary_data"
      ]
    },
    {
      "cell_type": "code",
      "execution_count": null,
      "metadata": {
        "id": "RmpwTRMM7y7D"
      },
      "outputs": [],
      "source": []
    },
    {
      "cell_type": "code",
      "execution_count": null,
      "metadata": {
        "colab": {
          "base_uri": "https://localhost:8080/",
          "height": 295
        },
        "id": "E8lGdz6wGr_5",
        "outputId": "beac90e2-7f38-4558-e920-f0645e68c2e2"
      },
      "outputs": [
        {
          "data": {
            "image/png": "[encoded data removed]",
            "text/plain": [
              "<Figure size 432x288 with 1 Axes>"
            ]
          },
          "metadata": {
            "needs_background": "light"
          },
          "output_type": "display_data"
        }
      ],
      "source": [
        "plt.plot(np.arange(epochs), hist.history['val_accuracy'])\n",
        "plt.title('val_accuracy базовая сеть', fontsize=12)\n",
        "plt.ylabel('val_accuracy')\n",
        "plt.xlabel('эпохи')\n",
        "plt.grid(True)\n",
        "plt.show()"
      ]
    },
    {
      "cell_type": "code",
      "execution_count": null,
      "metadata": {
        "colab": {
          "base_uri": "https://localhost:8080/",
          "height": 281
        },
        "id": "EV5r4i2PELAe",
        "outputId": "b9b67bf1-cd35-4c9a-c5ae-dd5920d30f7e"
      },
      "outputs": [
        {
          "data": {
            "image/png": "[encoded data removed]",
            "text/plain": [
              "<Figure size 432x288 with 1 Axes>"
            ]
          },
          "metadata": {
            "needs_background": "light"
          },
          "output_type": "display_data"
        }
      ],
      "source": [
        "N = 1011\n",
        "y_p=model.predict(x_test[N:N+1][:,:,:])\n",
        "y_t = np.argmax(y_test[N:N+1], axis = 1 )\n",
        "y_i = np.argmax(y_p, axis = 1 )\n",
        "plt.imshow(x_test[N][:,:,:])\n",
        "plt.title('это : '+classes[y_t[0]]+'- опознан как : '+classes[y_i[0]])\n",
        "plt.show()"
      ]
    },
    {
      "cell_type": "markdown",
      "metadata": {
        "id": "ddsl7INbL_I7"
      },
      "source": [
        "# Оценим рост точности при увеличении ширины сети (больше ядер)\n",
        "Модель:\n",
        "- количество слоёв - 3\n",
        "- количество нейронов в каждом слое - 64."
      ]
    },
    {
      "cell_type": "code",
      "execution_count": null,
      "metadata": {
        "colab": {
          "base_uri": "https://localhost:8080/"
        },
        "id": "p-EBTFXrah89",
        "outputId": "3fe65b89-99c8-491f-e775-56178e15a330"
      },
      "outputs": [
        {
          "name": "stdout",
          "output_type": "stream",
          "text": [
            "Model: \"sequential_1\"\n",
            "_________________________________________________________________\n",
            " Layer (type)                Output Shape              Param #   \n",
            "=================================================================\n",
            " conv2d_3 (Conv2D)           (None, 32, 32, 64)        23296     \n",
            "                                                                 \n",
            " batch_normalization_3 (Batc  (None, 32, 32, 64)       256       \n",
            " hNormalization)                                                 \n",
            "                                                                 \n",
            " max_pooling2d_3 (MaxPooling  (None, 15, 15, 64)       0         \n",
            " 2D)                                                             \n",
            "                                                                 \n",
            " dropout_4 (Dropout)         (None, 15, 15, 64)        0         \n",
            "                                                                 \n",
            " conv2d_4 (Conv2D)           (None, 8, 8, 64)          262208    \n",
            "                                                                 \n",
            " batch_normalization_4 (Batc  (None, 8, 8, 64)         256       \n",
            " hNormalization)                                                 \n",
            "                                                                 \n",
            " max_pooling2d_4 (MaxPooling  (None, 3, 3, 64)         0         \n",
            " 2D)                                                             \n",
            "                                                                 \n",
            " dropout_5 (Dropout)         (None, 3, 3, 64)          0         \n",
            "                                                                 \n",
            " conv2d_5 (Conv2D)           (None, 3, 3, 64)          102464    \n",
            "                                                                 \n",
            " batch_normalization_5 (Batc  (None, 3, 3, 64)         256       \n",
            " hNormalization)                                                 \n",
            "                                                                 \n",
            " max_pooling2d_5 (MaxPooling  (None, 1, 1, 64)         0         \n",
            " 2D)                                                             \n",
            "                                                                 \n",
            " dropout_6 (Dropout)         (None, 1, 1, 64)          0         \n",
            "                                                                 \n",
            " flatten_1 (Flatten)         (None, 64)                0         \n",
            "                                                                 \n",
            " dense_2 (Dense)             (None, 512)               33280     \n",
            "                                                                 \n",
            " dropout_7 (Dropout)         (None, 512)               0         \n",
            "                                                                 \n",
            " dense_3 (Dense)             (None, 10)                5130      \n",
            "                                                                 \n",
            "=================================================================\n",
            "Total params: 427,146\n",
            "Trainable params: 426,762\n",
            "Non-trainable params: 384\n",
            "_________________________________________________________________\n"
          ]
        }
      ],
      "source": [
        "# конфигурирование слоев нейросети\n",
        "model_1 = Sequential([\n",
        "                    \n",
        "    # слои нейросети отвественные за свертку и max-pooling\n",
        "    Conv2D(filters=64,  # количество фильтров - эквивалентно кол-ву нейронов (ширина слоя)!!!\n",
        "        kernel_size=(11, 11),  # кортеж, размер ядра фильтра (размер фильтра по осям, апертура фильтра)\n",
        "        strides=(1, 1),   # шаг применения фильтра к пикселам (пропуск пикселов) - вместо пулинга\n",
        "        input_shape=x_train.shape[1:],\n",
        "        activation='relu',  # активация\n",
        "        padding='same'),\n",
        "    BatchNormalization(),\n",
        "    MaxPooling2D(pool_size=(3, 3), strides=(2, 2)),\n",
        "    Dropout( 0.25),\n",
        "\n",
        "    Conv2D(filters=64,  # количество фильтров - эквивалентно кол-ву нейронов (ширина слоя)!!!\n",
        "        kernel_size=(8, 8),  # кортеж размер ядра фильтра (размер фильтра по осям, апертура фильтра)\n",
        "        strides=(1, 1),   # шаг применения фильтра к пикселам (пропуск пикселов) - вместо пулинга\n",
        "        input_shape=x_train.shape[1:],\n",
        "        activation='relu'  # активация\n",
        "      ),\n",
        "    BatchNormalization(),\n",
        "    MaxPooling2D(pool_size=(3, 3), strides=(2, 2)),\n",
        "    Dropout( 0.25),\n",
        "    \n",
        "    Conv2D(filters=64, kernel_size=(5, 5), strides=(1,1), activation='relu', padding=\"same\"),\n",
        "    BatchNormalization(),\n",
        "    MaxPooling2D(pool_size=(3,3), strides=(2, 2)),\n",
        "    Dropout( 0.25),\n",
        "\n",
        "    # Conv2D(filters=32, kernel_size=(3, 3), strides=(1,1), activation='relu'),\n",
        "    # BatchNormalization(),\n",
        "    # MaxPooling2D(pool_size=(3,3), strides=(2, 2)),\n",
        "    # Dropout(0.25),\n",
        "    \n",
        "    # Из конволютивного слоя нельзя передать информацию в плотный слой без векторизации\n",
        "    # поэтому используем layers.Flatten() чтоб не делать reshape, сглаживание CNN выхода,\n",
        "    # чтобы можно было его присоединить к полносвязногому слою.\n",
        "\n",
        "    # полносвязные слои нейронной сети\n",
        "    Flatten(),\n",
        "    Dense(512, activation='relu'),\n",
        "    Dropout(0.5),\n",
        "    Dense(num_classes, activation='softmax'),\n",
        "])\n",
        "\n",
        "# инициализация RMSprop optimizer\n",
        "#opt = tensorflow.keras.optimizers.RMSprop(lr=0.0001, decay=1e-6)\n",
        "\n",
        "# компиляция модели\n",
        "model_1.compile(loss='categorical_crossentropy',\n",
        "              optimizer='SGD',\n",
        "              metrics=['accuracy'])\n",
        "\n",
        "model_1.summary()"
      ]
    },
    {
      "cell_type": "code",
      "execution_count": null,
      "metadata": {
        "colab": {
          "base_uri": "https://localhost:8080/"
        },
        "id": "2hwJSlN0MtTL",
        "outputId": "45a17262-ff26-4cff-a9a4-fc89b9425ea0"
      },
      "outputs": [
        {
          "name": "stdout",
          "output_type": "stream",
          "text": [
            "Не используется data augmentation\n",
            "Epoch 1/10\n",
            "1563/1563 [==============================] - 504s 322ms/step - loss: 1.8753 - accuracy: 0.3098 - val_loss: 2.1146 - val_accuracy: 0.3101\n",
            "Epoch 2/10\n",
            "1563/1563 [==============================] - 491s 314ms/step - loss: 1.5504 - accuracy: 0.4305 - val_loss: 1.8086 - val_accuracy: 0.3853\n",
            "Epoch 3/10\n",
            "1563/1563 [==============================] - 524s 335ms/step - loss: 1.4196 - accuracy: 0.4839 - val_loss: 1.6097 - val_accuracy: 0.4133\n",
            "Epoch 4/10\n",
            "1563/1563 [==============================] - 567s 363ms/step - loss: 1.3247 - accuracy: 0.5228 - val_loss: 1.7295 - val_accuracy: 0.4098\n",
            "Epoch 5/10\n",
            "1563/1563 [==============================] - 566s 362ms/step - loss: 1.2596 - accuracy: 0.5505 - val_loss: 1.8451 - val_accuracy: 0.4042\n",
            "Epoch 6/10\n",
            "1563/1563 [==============================] - 525s 336ms/step - loss: 1.2056 - accuracy: 0.5740 - val_loss: 1.2560 - val_accuracy: 0.5640\n",
            "Epoch 7/10\n",
            "1563/1563 [==============================] - 528s 338ms/step - loss: 1.1571 - accuracy: 0.5895 - val_loss: 1.2918 - val_accuracy: 0.5423\n",
            "Epoch 8/10\n",
            "1563/1563 [==============================] - 508s 325ms/step - loss: 1.1236 - accuracy: 0.6018 - val_loss: 1.2914 - val_accuracy: 0.5515\n",
            "Epoch 9/10\n",
            "1563/1563 [==============================] - 500s 320ms/step - loss: 1.0869 - accuracy: 0.6168 - val_loss: 1.3620 - val_accuracy: 0.5482\n",
            "Epoch 10/10\n",
            "1563/1563 [==============================] - 502s 321ms/step - loss: 1.0578 - accuracy: 0.6291 - val_loss: 1.0179 - val_accuracy: 0.6357\n"
          ]
        }
      ],
      "source": [
        "  print('Не используется data augmentation')\n",
        "  hist = model_1.fit(x_train, y_train,\n",
        "            batch_size=batch_size,\n",
        "            epochs=epochs,\n",
        "            validation_data=(x_test, y_test),\n",
        "            shuffle=True)"
      ]
    },
    {
      "cell_type": "code",
      "execution_count": null,
      "metadata": {
        "id": "mF7C3IwqMyaY"
      },
      "outputs": [],
      "source": []
    },
    {
      "cell_type": "code",
      "execution_count": null,
      "metadata": {
        "colab": {
          "base_uri": "https://localhost:8080/",
          "height": 185
        },
        "id": "PREthFgxM325",
        "outputId": "9007b1b2-fa32-4eda-c14a-a66412b3746c"
      },
      "outputs": [
        {
          "name": "stdout",
          "output_type": "stream",
          "text": [
            "1563/1563 [==============================] - 114s 73ms/step - loss: 0.9368 - accuracy: 0.6651\n",
            "313/313 [==============================] - 23s 73ms/step - loss: 1.0179 - accuracy: 0.6357\n",
            "Test loss: 1.017857551574707\n",
            "Test accuracy: 0.635699987411499\n"
          ]
        },
        {
          "data": {
            "text/html": [
              "\n",
              "  <div id=\"df-7f77c9ed-08fc-490a-8285-184ee0db354d\">\n",
              "    <div class=\"colab-df-container\">\n",
              "      <div>\n",
              "<style scoped>\n",
              "    .dataframe tbody tr th:only-of-type {\n",
              "        vertical-align: middle;\n",
              "    }\n",
              "\n",
              "    .dataframe tbody tr th {\n",
              "        vertical-align: top;\n",
              "    }\n",
              "\n",
              "    .dataframe thead th {\n",
              "        text-align: right;\n",
              "    }\n",
              "</style>\n",
              "<table border=\"1\" class=\"dataframe\">\n",
              "  <thead>\n",
              "    <tr style=\"text-align: right;\">\n",
              "      <th></th>\n",
              "      <th>layers</th>\n",
              "      <th>neurons</th>\n",
              "      <th>loss</th>\n",
              "      <th>accuracy</th>\n",
              "      <th>val_loss</th>\n",
              "      <th>val_accuracy</th>\n",
              "    </tr>\n",
              "  </thead>\n",
              "  <tbody>\n",
              "    <tr>\n",
              "      <th>Базовая модель</th>\n",
              "      <td>3</td>\n",
              "      <td>32</td>\n",
              "      <td>1.1132</td>\n",
              "      <td>0.60148</td>\n",
              "      <td>1.16469</td>\n",
              "      <td>0.58</td>\n",
              "    </tr>\n",
              "    <tr>\n",
              "      <th>Модель с увеличеной шириной сети</th>\n",
              "      <td>3</td>\n",
              "      <td>64</td>\n",
              "      <td>0.93682</td>\n",
              "      <td>0.66514</td>\n",
              "      <td>1.01786</td>\n",
              "      <td>0.6357</td>\n",
              "    </tr>\n",
              "  </tbody>\n",
              "</table>\n",
              "</div>\n",
              "      <button class=\"colab-df-convert\" onclick=\"convertToInteractive('df-7f77c9ed-08fc-490a-8285-184ee0db354d')\"\n",
              "              title=\"Convert this dataframe to an interactive table.\"\n",
              "              style=\"display:none;\">\n",
              "        \n",
              "  <svg xmlns=\"http://www.w3.org/2000/svg\" height=\"24px\"viewBox=\"0 0 24 24\"\n",
              "       width=\"24px\">\n",
              "    <path d=\"M0 0h24v24H0V0z\" fill=\"none\"/>\n",
              "    <path d=\"M18.56 5.44l.94 2.06.94-2.06 2.06-.94-2.06-.94-.94-2.06-.94 2.06-2.06.94zm-11 1L8.5 8.5l.94-2.06 2.06-.94-2.06-.94L8.5 2.5l-.94 2.06-2.06.94zm10 10l.94 2.06.94-2.06 2.06-.94-2.06-.94-.94-2.06-.94 2.06-2.06.94z\"/><path d=\"M17.41 7.96l-1.37-1.37c-.4-.4-.92-.59-1.43-.59-.52 0-1.04.2-1.43.59L10.3 9.45l-7.72 7.72c-.78.78-.78 2.05 0 2.83L4 21.41c.39.39.9.59 1.41.59.51 0 1.02-.2 1.41-.59l7.78-7.78 2.81-2.81c.8-.78.8-2.07 0-2.86zM5.41 20L4 18.59l7.72-7.72 1.47 1.35L5.41 20z\"/>\n",
              "  </svg>\n",
              "      </button>\n",
              "      \n",
              "  <style>\n",
              "    .colab-df-container {\n",
              "      display:flex;\n",
              "      flex-wrap:wrap;\n",
              "      gap: 12px;\n",
              "    }\n",
              "\n",
              "    .colab-df-convert {\n",
              "      background-color: #E8F0FE;\n",
              "      border: none;\n",
              "      border-radius: 50%;\n",
              "      cursor: pointer;\n",
              "      display: none;\n",
              "      fill: #1967D2;\n",
              "      height: 32px;\n",
              "      padding: 0 0 0 0;\n",
              "      width: 32px;\n",
              "    }\n",
              "\n",
              "    .colab-df-convert:hover {\n",
              "      background-color: #E2EBFA;\n",
              "      box-shadow: 0px 1px 2px rgba(60, 64, 67, 0.3), 0px 1px 3px 1px rgba(60, 64, 67, 0.15);\n",
              "      fill: #174EA6;\n",
              "    }\n",
              "\n",
              "    [theme=dark] .colab-df-convert {\n",
              "      background-color: #3B4455;\n",
              "      fill: #D2E3FC;\n",
              "    }\n",
              "\n",
              "    [theme=dark] .colab-df-convert:hover {\n",
              "      background-color: #434B5C;\n",
              "      box-shadow: 0px 1px 3px 1px rgba(0, 0, 0, 0.15);\n",
              "      filter: drop-shadow(0px 1px 2px rgba(0, 0, 0, 0.3));\n",
              "      fill: #FFFFFF;\n",
              "    }\n",
              "  </style>\n",
              "\n",
              "      <script>\n",
              "        const buttonEl =\n",
              "          document.querySelector('#df-7f77c9ed-08fc-490a-8285-184ee0db354d button.colab-df-convert');\n",
              "        buttonEl.style.display =\n",
              "          google.colab.kernel.accessAllowed ? 'block' : 'none';\n",
              "\n",
              "        async function convertToInteractive(key) {\n",
              "          const element = document.querySelector('#df-7f77c9ed-08fc-490a-8285-184ee0db354d');\n",
              "          const dataTable =\n",
              "            await google.colab.kernel.invokeFunction('convertToInteractive',\n",
              "                                                     [key], {});\n",
              "          if (!dataTable) return;\n",
              "\n",
              "          const docLinkHtml = 'Like what you see? Visit the ' +\n",
              "            '<a target=\"_blank\" href=https://colab.research.google.com/notebooks/data_table.ipynb>data table notebook</a>'\n",
              "            + ' to learn more about interactive tables.';\n",
              "          element.innerHTML = '';\n",
              "          dataTable['output_type'] = 'display_data';\n",
              "          await google.colab.output.renderOutput(dataTable, element);\n",
              "          const docLink = document.createElement('div');\n",
              "          docLink.innerHTML = docLinkHtml;\n",
              "          element.appendChild(docLink);\n",
              "        }\n",
              "      </script>\n",
              "    </div>\n",
              "  </div>\n",
              "  "
            ],
            "text/plain": [
              "                                 layers neurons  ... val_loss val_accuracy\n",
              "Базовая модель                        3      32  ...  1.16469         0.58\n",
              "Модель с увеличеной шириной сети      3      64  ...  1.01786       0.6357\n",
              "\n",
              "[2 rows x 6 columns]"
            ]
          },
          "execution_count": 26,
          "metadata": {},
          "output_type": "execute_result"
        }
      ],
      "source": [
        "# model evaluation for training set\n",
        "loss_metric_train = model_1.evaluate(x_train, y_train)\n",
        "\n",
        "# проверка работы обученной модели\n",
        "loss_metric_test = model_1.evaluate(x_test, y_test, verbose=1)\n",
        "\n",
        "print('Test loss:', loss_metric_test[0])\n",
        "print('Test accuracy:', loss_metric_test[1])\n",
        "\n",
        "summary_data.loc[\"Модель с увеличеной шириной сети\", ['layers', 'neurons', 'loss', 'accuracy', 'val_loss', 'val_accuracy']] = [ 3,  64, loss_metric_train[0], loss_metric_train[1], loss_metric_test[0], loss_metric_test[1]]\n",
        "summary_data"
      ]
    },
    {
      "cell_type": "code",
      "execution_count": null,
      "metadata": {
        "colab": {
          "base_uri": "https://localhost:8080/",
          "height": 368
        },
        "id": "gHknFebJMygG",
        "outputId": "9d8ebd61-8941-4945-8444-062cb580285b"
      },
      "outputs": [
        {
          "name": "stderr",
          "output_type": "stream",
          "text": [
            "/usr/local/lib/python3.7/dist-packages/matplotlib/backends/backend_agg.py:214: RuntimeWarning: Glyph 9 missing from current font.\n",
            "  font.set_text(s, 0.0, flags=flags)\n",
            "/usr/local/lib/python3.7/dist-packages/matplotlib/backends/backend_agg.py:183: RuntimeWarning: Glyph 9 missing from current font.\n",
            "  font.set_text(s, 0, flags=flags)\n"
          ]
        },
        {
          "data": {
            "image/png": "[encoded data removed]",
            "text/plain": [
              "<Figure size 432x288 with 1 Axes>"
            ]
          },
          "metadata": {
            "needs_background": "light"
          },
          "output_type": "display_data"
        }
      ],
      "source": [
        "plt.plot(np.arange(epochs), hist.history['val_accuracy'])\n",
        "plt.title('val_accuracy модель с увеличеной шириной сети\t', fontsize=12)\n",
        "plt.ylabel('val_accuracy')\n",
        "plt.xlabel('эпохи')\n",
        "plt.grid(True)\n",
        "plt.show()"
      ]
    },
    {
      "cell_type": "markdown",
      "metadata": {
        "id": "FgMhk5cBQCMr"
      },
      "source": [
        "Лучший результат - val_accuracy = 0.6357 это лучше чем у базовой модели (0.5808).\n",
        "\n",
        "__Вывод__: \n",
        "С увеличением ширины сети точночть модели растёт."
      ]
    },
    {
      "cell_type": "code",
      "execution_count": null,
      "metadata": {
        "colab": {
          "base_uri": "https://localhost:8080/",
          "height": 281
        },
        "id": "zxIfRKxrQDaC",
        "outputId": "0c7eee80-702d-45b5-af94-2ed01caf6dd3"
      },
      "outputs": [
        {
          "data": {
            "image/png": "[encoded data removed]",
            "text/plain": [
              "<Figure size 432x288 with 1 Axes>"
            ]
          },
          "metadata": {
            "needs_background": "light"
          },
          "output_type": "display_data"
        }
      ],
      "source": [
        "N = 111\n",
        "y_p=model_1.predict(x_test[N:N+1][:,:,:])\n",
        "y_t = np.argmax(y_test[N:N+1], axis = 1 )\n",
        "y_i = np.argmax(y_p, axis = 1 )\n",
        "plt.imshow(x_test[N][:,:,:])\n",
        "plt.title('это : '+classes[y_t[0]]+'- опознан как : '+classes[y_i[0]])\n",
        "plt.show()"
      ]
    },
    {
      "cell_type": "markdown",
      "metadata": {
        "id": "zGAlICcmNTtO"
      },
      "source": [
        "# Оценим рост точности при увеличении глубины сети (больше слоев).\n",
        "Модель:\n",
        "- количество слоёв - 5\n",
        "- количество нейронов в каждом слое - 32."
      ]
    },
    {
      "cell_type": "code",
      "execution_count": null,
      "metadata": {
        "colab": {
          "base_uri": "https://localhost:8080/"
        },
        "id": "SrKfYZI7NPan",
        "outputId": "a50ff6b0-fbb5-4a20-9ccd-c3153fa25675"
      },
      "outputs": [
        {
          "name": "stdout",
          "output_type": "stream",
          "text": [
            "Model: \"sequential_2\"\n",
            "_________________________________________________________________\n",
            " Layer (type)                Output Shape              Param #   \n",
            "=================================================================\n",
            " conv2d_6 (Conv2D)           (None, 32, 32, 32)        11648     \n",
            "                                                                 \n",
            " batch_normalization_6 (Batc  (None, 32, 32, 32)       128       \n",
            " hNormalization)                                                 \n",
            "                                                                 \n",
            " max_pooling2d_6 (MaxPooling  (None, 15, 15, 32)       0         \n",
            " 2D)                                                             \n",
            "                                                                 \n",
            " dropout_8 (Dropout)         (None, 15, 15, 32)        0         \n",
            "                                                                 \n",
            " conv2d_7 (Conv2D)           (None, 8, 8, 32)          65568     \n",
            "                                                                 \n",
            " batch_normalization_7 (Batc  (None, 8, 8, 32)         128       \n",
            " hNormalization)                                                 \n",
            "                                                                 \n",
            " max_pooling2d_7 (MaxPooling  (None, 3, 3, 32)         0         \n",
            " 2D)                                                             \n",
            "                                                                 \n",
            " dropout_9 (Dropout)         (None, 3, 3, 32)          0         \n",
            "                                                                 \n",
            " conv2d_8 (Conv2D)           (None, 3, 3, 32)          25632     \n",
            "                                                                 \n",
            " batch_normalization_8 (Batc  (None, 3, 3, 32)         128       \n",
            " hNormalization)                                                 \n",
            "                                                                 \n",
            " conv2d_9 (Conv2D)           (None, 3, 3, 32)          9248      \n",
            "                                                                 \n",
            " batch_normalization_9 (Batc  (None, 3, 3, 32)         128       \n",
            " hNormalization)                                                 \n",
            "                                                                 \n",
            " conv2d_10 (Conv2D)          (None, 3, 3, 64)          2112      \n",
            "                                                                 \n",
            " batch_normalization_10 (Bat  (None, 3, 3, 64)         256       \n",
            " chNormalization)                                                \n",
            "                                                                 \n",
            " max_pooling2d_8 (MaxPooling  (None, 1, 1, 64)         0         \n",
            " 2D)                                                             \n",
            "                                                                 \n",
            " dropout_10 (Dropout)        (None, 1, 1, 64)          0         \n",
            "                                                                 \n",
            " flatten_2 (Flatten)         (None, 64)                0         \n",
            "                                                                 \n",
            " dense_4 (Dense)             (None, 512)               33280     \n",
            "                                                                 \n",
            " dropout_11 (Dropout)        (None, 512)               0         \n",
            "                                                                 \n",
            " dense_5 (Dense)             (None, 10)                5130      \n",
            "                                                                 \n",
            "=================================================================\n",
            "Total params: 153,386\n",
            "Trainable params: 153,002\n",
            "Non-trainable params: 384\n",
            "_________________________________________________________________\n"
          ]
        }
      ],
      "source": [
        "# конфигурирование слоев нейросети\n",
        "model_2 = Sequential([\n",
        "                    \n",
        "    # слои нейросети отвественные за свертку и max-pooling\n",
        "    Conv2D(filters=32,  # количество фильтров - эквивалентно кол-ву нейронов (ширина слоя)!!!\n",
        "        kernel_size=(11, 11),  # кортеж, размер ядра фильтра (размер фильтра по осям, апертура фильтра)\n",
        "        strides=(1, 1),   # шаг применения фильтра к пикселам (пропуск пикселов) - вместо пулинга\n",
        "        input_shape=x_train.shape[1:],\n",
        "        activation='relu',  # активация\n",
        "        padding='same'),\n",
        "    BatchNormalization(),\n",
        "    MaxPooling2D(pool_size=(3, 3), strides=(2, 2)),\n",
        "    Dropout( 0.25),\n",
        "\n",
        "    Conv2D(filters=32,  # количество фильтров - эквивалентно кол-ву нейронов (ширина слоя)!!!\n",
        "        kernel_size=(8, 8),  # кортеж размер ядра фильтра (размер фильтра по осям, апертура фильтра)\n",
        "        strides=(1, 1),   # шаг применения фильтра к пикселам (пропуск пикселов) - вместо пулинга\n",
        "        input_shape=x_train.shape[1:],\n",
        "        activation='relu'  # активация\n",
        "      ),\n",
        "    BatchNormalization(),\n",
        "    MaxPooling2D(pool_size=(3, 3), strides=(2, 2)),\n",
        "    Dropout( 0.25),\n",
        "    \n",
        "    Conv2D(filters=32, kernel_size=(5, 5), strides=(1,1), activation='relu', padding=\"same\"),\n",
        "    BatchNormalization(),\n",
        "    # MaxPooling2D(pool_size=(3,3), strides=(2, 2)),\n",
        "    # Dropout( 0.25),\n",
        "\n",
        "    # Добавляем 2 слоя\n",
        "    Conv2D(filters=32, kernel_size=(3, 3), strides=(1,1), activation='relu', padding=\"same\"),\n",
        "    BatchNormalization(),\n",
        "    # MaxPooling2D(pool_size=(3,3), strides=(2, 2)),\n",
        "    # Dropout( 0.25),\n",
        "\n",
        "    Conv2D(filters=64, kernel_size=(1, 1), strides=(1,1), activation='relu', padding=\"same\"),\n",
        "    BatchNormalization(),\n",
        "    MaxPooling2D(pool_size=(3,3), strides=(2, 2)),\n",
        "    Dropout(0.25),\n",
        "\n",
        "    # Из конволютивного слоя нельзя передать информацию в плотный слой без векторизации\n",
        "    # поэтому используем layers.Flatten() чтоб не делать reshape, сглаживание CNN выхода,\n",
        "    # чтобы можно было его присоединить к полносвязногому слою.\n",
        "\n",
        "    # полносвязные слои нейронной сети\n",
        "    Flatten(),\n",
        "    Dense(512, activation='relu'),\n",
        "    Dropout(0.5),\n",
        "    Dense(num_classes, activation='softmax'),\n",
        "])\n",
        "\n",
        "# инициализация RMSprop optimizer\n",
        "#opt = tensorflow.keras.optimizers.RMSprop(lr=0.0001, decay=1e-6)\n",
        "\n",
        "# компиляция модели\n",
        "model_2.compile(loss='categorical_crossentropy',\n",
        "              optimizer='SGD',\n",
        "              metrics=['accuracy'])\n",
        "\n",
        "model_2.summary()"
      ]
    },
    {
      "cell_type": "code",
      "execution_count": null,
      "metadata": {
        "colab": {
          "base_uri": "https://localhost:8080/"
        },
        "id": "l1JN2FlxpojR",
        "outputId": "6296b4e4-b276-4b79-ba59-b59d9385feac"
      },
      "outputs": [
        {
          "name": "stdout",
          "output_type": "stream",
          "text": [
            "Не используется data augmentation\n",
            "Epoch 1/10\n",
            "1563/1563 [==============================] - 291s 186ms/step - loss: 1.9562 - accuracy: 0.2766 - val_loss: 1.7058 - val_accuracy: 0.3708\n",
            "Epoch 2/10\n",
            "1563/1563 [==============================] - 306s 196ms/step - loss: 1.6366 - accuracy: 0.3977 - val_loss: 1.6850 - val_accuracy: 0.3900\n",
            "Epoch 3/10\n",
            "1563/1563 [==============================] - 312s 200ms/step - loss: 1.5213 - accuracy: 0.4454 - val_loss: 1.7853 - val_accuracy: 0.3915\n",
            "Epoch 4/10\n",
            "1563/1563 [==============================] - 302s 193ms/step - loss: 1.4432 - accuracy: 0.4802 - val_loss: 2.0177 - val_accuracy: 0.3466\n",
            "Epoch 5/10\n",
            "1563/1563 [==============================] - 305s 195ms/step - loss: 1.3861 - accuracy: 0.5032 - val_loss: 1.3586 - val_accuracy: 0.5076\n",
            "Epoch 6/10\n",
            "1563/1563 [==============================] - 301s 192ms/step - loss: 1.3432 - accuracy: 0.5178 - val_loss: 1.4731 - val_accuracy: 0.4599\n",
            "Epoch 7/10\n",
            "1563/1563 [==============================] - 300s 192ms/step - loss: 1.3042 - accuracy: 0.5371 - val_loss: 1.3309 - val_accuracy: 0.5148\n",
            "Epoch 8/10\n",
            "1563/1563 [==============================] - 310s 198ms/step - loss: 1.2682 - accuracy: 0.5492 - val_loss: 1.2642 - val_accuracy: 0.5526\n",
            "Epoch 9/10\n",
            "1563/1563 [==============================] - 315s 202ms/step - loss: 1.2371 - accuracy: 0.5629 - val_loss: 1.2861 - val_accuracy: 0.5441\n",
            "Epoch 10/10\n",
            "1563/1563 [==============================] - 315s 202ms/step - loss: 1.2003 - accuracy: 0.5766 - val_loss: 1.2809 - val_accuracy: 0.5520\n"
          ]
        }
      ],
      "source": [
        "  print('Не используется data augmentation')\n",
        "  hist = model_2.fit(x_train, y_train,\n",
        "            batch_size=batch_size,\n",
        "            epochs=epochs,\n",
        "            validation_data=(x_test, y_test),\n",
        "            shuffle=True)"
      ]
    },
    {
      "cell_type": "code",
      "execution_count": null,
      "metadata": {
        "colab": {
          "base_uri": "https://localhost:8080/",
          "height": 216
        },
        "id": "LFUwC-NwNPhC",
        "outputId": "b44f32a7-1248-40d8-dbea-5635be1cdf6a"
      },
      "outputs": [
        {
          "name": "stdout",
          "output_type": "stream",
          "text": [
            "1563/1563 [==============================] - 69s 44ms/step - loss: 1.2247 - accuracy: 0.5665\n",
            "313/313 [==============================] - 14s 43ms/step - loss: 1.2809 - accuracy: 0.5520\n",
            "Test loss: 1.2809213399887085\n",
            "Test accuracy: 0.5519999861717224\n"
          ]
        },
        {
          "data": {
            "text/html": [
              "\n",
              "  <div id=\"df-e7962b5b-3b4a-4f72-aa93-c6a7b4c91c9a\">\n",
              "    <div class=\"colab-df-container\">\n",
              "      <div>\n",
              "<style scoped>\n",
              "    .dataframe tbody tr th:only-of-type {\n",
              "        vertical-align: middle;\n",
              "    }\n",
              "\n",
              "    .dataframe tbody tr th {\n",
              "        vertical-align: top;\n",
              "    }\n",
              "\n",
              "    .dataframe thead th {\n",
              "        text-align: right;\n",
              "    }\n",
              "</style>\n",
              "<table border=\"1\" class=\"dataframe\">\n",
              "  <thead>\n",
              "    <tr style=\"text-align: right;\">\n",
              "      <th></th>\n",
              "      <th>layers</th>\n",
              "      <th>neurons</th>\n",
              "      <th>loss</th>\n",
              "      <th>accuracy</th>\n",
              "      <th>val_loss</th>\n",
              "      <th>val_accuracy</th>\n",
              "    </tr>\n",
              "  </thead>\n",
              "  <tbody>\n",
              "    <tr>\n",
              "      <th>Базовая модель</th>\n",
              "      <td>3</td>\n",
              "      <td>32</td>\n",
              "      <td>1.1132</td>\n",
              "      <td>0.60148</td>\n",
              "      <td>1.16469</td>\n",
              "      <td>0.58</td>\n",
              "    </tr>\n",
              "    <tr>\n",
              "      <th>Модель с увеличеной шириной сети</th>\n",
              "      <td>3</td>\n",
              "      <td>64</td>\n",
              "      <td>0.93682</td>\n",
              "      <td>0.66514</td>\n",
              "      <td>1.01786</td>\n",
              "      <td>0.6357</td>\n",
              "    </tr>\n",
              "    <tr>\n",
              "      <th>Модель с увеличенной глубиной сети</th>\n",
              "      <td>5</td>\n",
              "      <td>32</td>\n",
              "      <td>1.22475</td>\n",
              "      <td>0.56654</td>\n",
              "      <td>1.28092</td>\n",
              "      <td>0.552</td>\n",
              "    </tr>\n",
              "  </tbody>\n",
              "</table>\n",
              "</div>\n",
              "      <button class=\"colab-df-convert\" onclick=\"convertToInteractive('df-e7962b5b-3b4a-4f72-aa93-c6a7b4c91c9a')\"\n",
              "              title=\"Convert this dataframe to an interactive table.\"\n",
              "              style=\"display:none;\">\n",
              "        \n",
              "  <svg xmlns=\"http://www.w3.org/2000/svg\" height=\"24px\"viewBox=\"0 0 24 24\"\n",
              "       width=\"24px\">\n",
              "    <path d=\"M0 0h24v24H0V0z\" fill=\"none\"/>\n",
              "    <path d=\"M18.56 5.44l.94 2.06.94-2.06 2.06-.94-2.06-.94-.94-2.06-.94 2.06-2.06.94zm-11 1L8.5 8.5l.94-2.06 2.06-.94-2.06-.94L8.5 2.5l-.94 2.06-2.06.94zm10 10l.94 2.06.94-2.06 2.06-.94-2.06-.94-.94-2.06-.94 2.06-2.06.94z\"/><path d=\"M17.41 7.96l-1.37-1.37c-.4-.4-.92-.59-1.43-.59-.52 0-1.04.2-1.43.59L10.3 9.45l-7.72 7.72c-.78.78-.78 2.05 0 2.83L4 21.41c.39.39.9.59 1.41.59.51 0 1.02-.2 1.41-.59l7.78-7.78 2.81-2.81c.8-.78.8-2.07 0-2.86zM5.41 20L4 18.59l7.72-7.72 1.47 1.35L5.41 20z\"/>\n",
              "  </svg>\n",
              "      </button>\n",
              "      \n",
              "  <style>\n",
              "    .colab-df-container {\n",
              "      display:flex;\n",
              "      flex-wrap:wrap;\n",
              "      gap: 12px;\n",
              "    }\n",
              "\n",
              "    .colab-df-convert {\n",
              "      background-color: #E8F0FE;\n",
              "      border: none;\n",
              "      border-radius: 50%;\n",
              "      cursor: pointer;\n",
              "      display: none;\n",
              "      fill: #1967D2;\n",
              "      height: 32px;\n",
              "      padding: 0 0 0 0;\n",
              "      width: 32px;\n",
              "    }\n",
              "\n",
              "    .colab-df-convert:hover {\n",
              "      background-color: #E2EBFA;\n",
              "      box-shadow: 0px 1px 2px rgba(60, 64, 67, 0.3), 0px 1px 3px 1px rgba(60, 64, 67, 0.15);\n",
              "      fill: #174EA6;\n",
              "    }\n",
              "\n",
              "    [theme=dark] .colab-df-convert {\n",
              "      background-color: #3B4455;\n",
              "      fill: #D2E3FC;\n",
              "    }\n",
              "\n",
              "    [theme=dark] .colab-df-convert:hover {\n",
              "      background-color: #434B5C;\n",
              "      box-shadow: 0px 1px 3px 1px rgba(0, 0, 0, 0.15);\n",
              "      filter: drop-shadow(0px 1px 2px rgba(0, 0, 0, 0.3));\n",
              "      fill: #FFFFFF;\n",
              "    }\n",
              "  </style>\n",
              "\n",
              "      <script>\n",
              "        const buttonEl =\n",
              "          document.querySelector('#df-e7962b5b-3b4a-4f72-aa93-c6a7b4c91c9a button.colab-df-convert');\n",
              "        buttonEl.style.display =\n",
              "          google.colab.kernel.accessAllowed ? 'block' : 'none';\n",
              "\n",
              "        async function convertToInteractive(key) {\n",
              "          const element = document.querySelector('#df-e7962b5b-3b4a-4f72-aa93-c6a7b4c91c9a');\n",
              "          const dataTable =\n",
              "            await google.colab.kernel.invokeFunction('convertToInteractive',\n",
              "                                                     [key], {});\n",
              "          if (!dataTable) return;\n",
              "\n",
              "          const docLinkHtml = 'Like what you see? Visit the ' +\n",
              "            '<a target=\"_blank\" href=https://colab.research.google.com/notebooks/data_table.ipynb>data table notebook</a>'\n",
              "            + ' to learn more about interactive tables.';\n",
              "          element.innerHTML = '';\n",
              "          dataTable['output_type'] = 'display_data';\n",
              "          await google.colab.output.renderOutput(dataTable, element);\n",
              "          const docLink = document.createElement('div');\n",
              "          docLink.innerHTML = docLinkHtml;\n",
              "          element.appendChild(docLink);\n",
              "        }\n",
              "      </script>\n",
              "    </div>\n",
              "  </div>\n",
              "  "
            ],
            "text/plain": [
              "                                   layers neurons  ... val_loss val_accuracy\n",
              "Базовая модель                          3      32  ...  1.16469         0.58\n",
              "Модель с увеличеной шириной сети        3      64  ...  1.01786       0.6357\n",
              "Модель с увеличенной глубиной сети      5      32  ...  1.28092        0.552\n",
              "\n",
              "[3 rows x 6 columns]"
            ]
          },
          "execution_count": 31,
          "metadata": {},
          "output_type": "execute_result"
        }
      ],
      "source": [
        "# model evaluation for training set\n",
        "loss_metric_train = model_2.evaluate(x_train, y_train)\n",
        "\n",
        "# проверка работы обученной модели\n",
        "loss_metric_test = model_2.evaluate(x_test, y_test, verbose=1)\n",
        "\n",
        "print('Test loss:', loss_metric_test[0])\n",
        "print('Test accuracy:', loss_metric_test[1])\n",
        "\n",
        "summary_data.loc[\"Модель с увеличенной глубиной сети\", ['layers', 'neurons', 'loss', 'accuracy', 'val_loss', 'val_accuracy']] = [ 5,  32, loss_metric_train[0], loss_metric_train[1], loss_metric_test[0], loss_metric_test[1]]\n",
        "summary_data"
      ]
    },
    {
      "cell_type": "code",
      "execution_count": null,
      "metadata": {
        "colab": {
          "base_uri": "https://localhost:8080/",
          "height": 295
        },
        "id": "kyQRNDVlNPkx",
        "outputId": "838babb5-f2c4-4504-8715-6aba41ad04a3"
      },
      "outputs": [
        {
          "data": {
            "image/png": "[encoded data removed]",
            "text/plain": [
              "<Figure size 432x288 with 1 Axes>"
            ]
          },
          "metadata": {
            "needs_background": "light"
          },
          "output_type": "display_data"
        }
      ],
      "source": [
        "plt.plot(np.arange(epochs), hist.history['val_accuracy'])\n",
        "plt.title('val_accuracy модель с увеличенной глубиной сети', fontsize=12)\n",
        "plt.ylabel('val_accuracy')\n",
        "plt.xlabel('эпохи')\n",
        "plt.grid(True)\n",
        "plt.show()"
      ]
    },
    {
      "cell_type": "markdown",
      "metadata": {
        "id": "P7_3eTWTQP6y"
      },
      "source": [
        "Лучший результат - val_accuracy = 0.552 это хуже чем у базовой модели (0.58)и хуже чем у модели с большой ширингой слоя (0.6357).\n",
        "\n",
        "__Вывод__: \n",
        "С увеличением глубины сети на данном датасете точность модели не улучшается по сравнению с базовой модель.\n"
      ]
    },
    {
      "cell_type": "code",
      "execution_count": null,
      "metadata": {
        "colab": {
          "base_uri": "https://localhost:8080/",
          "height": 281
        },
        "id": "F6aQIkraNPoE",
        "outputId": "cf8673a8-6c1b-476c-9699-b73ba4eecfd2"
      },
      "outputs": [
        {
          "data": {
            "image/png": "[encoded data removed]",
            "text/plain": [
              "<Figure size 432x288 with 1 Axes>"
            ]
          },
          "metadata": {
            "needs_background": "light"
          },
          "output_type": "display_data"
        }
      ],
      "source": [
        "N = 111\n",
        "y_p=model_2.predict(x_test[N:N+1][:,:,:])\n",
        "y_t = np.argmax(y_test[N:N+1], axis = 1 )\n",
        "y_i = np.argmax(y_p, axis = 1 )\n",
        "plt.imshow(x_test[N][:,:,:])\n",
        "plt.title('это : '+classes[y_t[0]]+'- опознан как : '+classes[y_i[0]])\n",
        "plt.show()"
      ]
    },
    {
      "cell_type": "markdown",
      "metadata": {
        "id": "glCblXEF93xB"
      },
      "source": [
        "# *(опционально) сравнить с точностью полносвязной сети для этой выборки"
      ]
    },
    {
      "cell_type": "code",
      "execution_count": null,
      "metadata": {
        "id": "E6PeVL6cNPrO"
      },
      "outputs": [],
      "source": [
        "# конфигурирование слоев нейросети\n",
        "model_3 = Sequential([\n",
        "    Flatten(),\n",
        "    Dense(512, activation='relu'),\n",
        "    Dropout(0.5),\n",
        "    Dense(num_classes, activation='softmax')\n",
        "])\n",
        "\n",
        "# инициализация RMSprop optimizer\n",
        "#opt = tensorflow.keras.optimizers.RMSprop(lr=0.0001, decay=1e-6)\n",
        "\n",
        "# компиляция модели\n",
        "model_3.compile(loss='categorical_crossentropy',\n",
        "              optimizer='SGD',\n",
        "              metrics=['accuracy'])\n",
        "\n",
        "# model_2.summary()"
      ]
    },
    {
      "cell_type": "code",
      "execution_count": null,
      "metadata": {
        "colab": {
          "base_uri": "https://localhost:8080/"
        },
        "id": "dvBEOec9MynL",
        "outputId": "a1070280-be0f-4026-d549-4ec534ce8f61"
      },
      "outputs": [
        {
          "name": "stdout",
          "output_type": "stream",
          "text": [
            "Epoch 1/10\n",
            "1563/1563 [==============================] - 19s 12ms/step - loss: 1.9470 - accuracy: 0.2990 - val_loss: 1.7819 - val_accuracy: 0.3729\n",
            "Epoch 2/10\n",
            "1563/1563 [==============================] - 18s 12ms/step - loss: 1.7893 - accuracy: 0.3646 - val_loss: 1.7319 - val_accuracy: 0.3833\n",
            "Epoch 3/10\n",
            "1563/1563 [==============================] - 19s 12ms/step - loss: 1.7250 - accuracy: 0.3891 - val_loss: 1.6505 - val_accuracy: 0.4173\n",
            "Epoch 4/10\n",
            "1563/1563 [==============================] - 19s 12ms/step - loss: 1.6869 - accuracy: 0.4043 - val_loss: 1.6045 - val_accuracy: 0.4357\n",
            "Epoch 5/10\n",
            "1563/1563 [==============================] - 19s 12ms/step - loss: 1.6563 - accuracy: 0.4155 - val_loss: 1.5859 - val_accuracy: 0.4429\n",
            "Epoch 6/10\n",
            "1563/1563 [==============================] - 19s 12ms/step - loss: 1.6282 - accuracy: 0.4261 - val_loss: 1.5495 - val_accuracy: 0.4603\n",
            "Epoch 7/10\n",
            "1563/1563 [==============================] - 18s 12ms/step - loss: 1.6032 - accuracy: 0.4352 - val_loss: 1.5367 - val_accuracy: 0.4572\n",
            "Epoch 8/10\n",
            "1563/1563 [==============================] - 19s 12ms/step - loss: 1.5850 - accuracy: 0.4433 - val_loss: 1.5286 - val_accuracy: 0.4622\n",
            "Epoch 9/10\n",
            "1563/1563 [==============================] - 18s 12ms/step - loss: 1.5702 - accuracy: 0.4467 - val_loss: 1.5262 - val_accuracy: 0.4716\n",
            "Epoch 10/10\n",
            "1563/1563 [==============================] - 18s 11ms/step - loss: 1.5549 - accuracy: 0.4528 - val_loss: 1.5051 - val_accuracy: 0.4688\n"
          ]
        }
      ],
      "source": [
        "  hist = model_3.fit(x_train, y_train,\n",
        "            batch_size=batch_size,\n",
        "            epochs=epochs,\n",
        "            validation_data=(x_test, y_test),\n",
        "            shuffle=True)"
      ]
    },
    {
      "cell_type": "code",
      "execution_count": null,
      "metadata": {
        "colab": {
          "base_uri": "https://localhost:8080/"
        },
        "id": "0YYvRnlyMywW",
        "outputId": "1cdfeafc-19a0-4cb2-b0dd-b0e3b5d0f636"
      },
      "outputs": [
        {
          "name": "stdout",
          "output_type": "stream",
          "text": [
            "1563/1563 [==============================] - 8s 5ms/step - loss: 1.4627 - accuracy: 0.4938\n",
            "313/313 [==============================] - 14s 46ms/step - loss: 1.3161 - accuracy: 0.5459\n",
            "Test loss: 1.3160786628723145\n",
            "Test accuracy: 0.5458999872207642\n"
          ]
        }
      ],
      "source": [
        "# model evaluation for training set\n",
        "loss_metric_train = model_3.evaluate(x_train, y_train)\n",
        "\n",
        "# проверка работы обученной модели\n",
        "loss_metric_test = model_2.evaluate(x_test, y_test, verbose=1)\n",
        "\n",
        "print('Test loss:', loss_metric_test[0])\n",
        "print('Test accuracy:', loss_metric_test[1])\n",
        "\n",
        "summary_data.loc[\"Полносвязная сеть\", ['layers', 'neurons', 'loss', 'accuracy', 'val_loss', 'val_accuracy']] = [ 5,  32, loss_metric_train[0], loss_metric_train[1], loss_metric_test[0], loss_metric_test[1]]"
      ]
    },
    {
      "cell_type": "code",
      "execution_count": null,
      "metadata": {
        "colab": {
          "base_uri": "https://localhost:8080/",
          "height": 175
        },
        "id": "--8LU7Rvag93",
        "outputId": "c790d18c-9d51-4b45-c302-99362953d52b"
      },
      "outputs": [
        {
          "data": {
            "text/html": [
              "\n",
              "  <div id=\"df-dbac4684-3d11-4aed-9238-db5dab611418\">\n",
              "    <div class=\"colab-df-container\">\n",
              "      <div>\n",
              "<style scoped>\n",
              "    .dataframe tbody tr th:only-of-type {\n",
              "        vertical-align: middle;\n",
              "    }\n",
              "\n",
              "    .dataframe tbody tr th {\n",
              "        vertical-align: top;\n",
              "    }\n",
              "\n",
              "    .dataframe thead th {\n",
              "        text-align: right;\n",
              "    }\n",
              "</style>\n",
              "<table border=\"1\" class=\"dataframe\">\n",
              "  <thead>\n",
              "    <tr style=\"text-align: right;\">\n",
              "      <th></th>\n",
              "      <th>layers</th>\n",
              "      <th>neurons</th>\n",
              "      <th>loss</th>\n",
              "      <th>accuracy</th>\n",
              "      <th>val_loss</th>\n",
              "      <th>val_accuracy</th>\n",
              "    </tr>\n",
              "  </thead>\n",
              "  <tbody>\n",
              "    <tr>\n",
              "      <th>Базовая модель</th>\n",
              "      <td>3</td>\n",
              "      <td>32</td>\n",
              "      <td>1.1132</td>\n",
              "      <td>0.60148</td>\n",
              "      <td>1.16469</td>\n",
              "      <td>0.58</td>\n",
              "    </tr>\n",
              "    <tr>\n",
              "      <th>Модель с увеличеной шириной сети</th>\n",
              "      <td>3</td>\n",
              "      <td>64</td>\n",
              "      <td>0.93682</td>\n",
              "      <td>0.66514</td>\n",
              "      <td>1.01786</td>\n",
              "      <td>0.6357</td>\n",
              "    </tr>\n",
              "    <tr>\n",
              "      <th>Модель с увеличенной глубиной сети</th>\n",
              "      <td>5</td>\n",
              "      <td>32</td>\n",
              "      <td>1.22475</td>\n",
              "      <td>0.56654</td>\n",
              "      <td>1.28092</td>\n",
              "      <td>0.552</td>\n",
              "    </tr>\n",
              "    <tr>\n",
              "      <th>Полносвязная сеть</th>\n",
              "      <td>5</td>\n",
              "      <td>32</td>\n",
              "      <td>1.46268</td>\n",
              "      <td>0.49376</td>\n",
              "      <td>1.31608</td>\n",
              "      <td>0.5459</td>\n",
              "    </tr>\n",
              "  </tbody>\n",
              "</table>\n",
              "</div>\n",
              "      <button class=\"colab-df-convert\" onclick=\"convertToInteractive('df-dbac4684-3d11-4aed-9238-db5dab611418')\"\n",
              "              title=\"Convert this dataframe to an interactive table.\"\n",
              "              style=\"display:none;\">\n",
              "        \n",
              "  <svg xmlns=\"http://www.w3.org/2000/svg\" height=\"24px\"viewBox=\"0 0 24 24\"\n",
              "       width=\"24px\">\n",
              "    <path d=\"M0 0h24v24H0V0z\" fill=\"none\"/>\n",
              "    <path d=\"M18.56 5.44l.94 2.06.94-2.06 2.06-.94-2.06-.94-.94-2.06-.94 2.06-2.06.94zm-11 1L8.5 8.5l.94-2.06 2.06-.94-2.06-.94L8.5 2.5l-.94 2.06-2.06.94zm10 10l.94 2.06.94-2.06 2.06-.94-2.06-.94-.94-2.06-.94 2.06-2.06.94z\"/><path d=\"M17.41 7.96l-1.37-1.37c-.4-.4-.92-.59-1.43-.59-.52 0-1.04.2-1.43.59L10.3 9.45l-7.72 7.72c-.78.78-.78 2.05 0 2.83L4 21.41c.39.39.9.59 1.41.59.51 0 1.02-.2 1.41-.59l7.78-7.78 2.81-2.81c.8-.78.8-2.07 0-2.86zM5.41 20L4 18.59l7.72-7.72 1.47 1.35L5.41 20z\"/>\n",
              "  </svg>\n",
              "      </button>\n",
              "      \n",
              "  <style>\n",
              "    .colab-df-container {\n",
              "      display:flex;\n",
              "      flex-wrap:wrap;\n",
              "      gap: 12px;\n",
              "    }\n",
              "\n",
              "    .colab-df-convert {\n",
              "      background-color: #E8F0FE;\n",
              "      border: none;\n",
              "      border-radius: 50%;\n",
              "      cursor: pointer;\n",
              "      display: none;\n",
              "      fill: #1967D2;\n",
              "      height: 32px;\n",
              "      padding: 0 0 0 0;\n",
              "      width: 32px;\n",
              "    }\n",
              "\n",
              "    .colab-df-convert:hover {\n",
              "      background-color: #E2EBFA;\n",
              "      box-shadow: 0px 1px 2px rgba(60, 64, 67, 0.3), 0px 1px 3px 1px rgba(60, 64, 67, 0.15);\n",
              "      fill: #174EA6;\n",
              "    }\n",
              "\n",
              "    [theme=dark] .colab-df-convert {\n",
              "      background-color: #3B4455;\n",
              "      fill: #D2E3FC;\n",
              "    }\n",
              "\n",
              "    [theme=dark] .colab-df-convert:hover {\n",
              "      background-color: #434B5C;\n",
              "      box-shadow: 0px 1px 3px 1px rgba(0, 0, 0, 0.15);\n",
              "      filter: drop-shadow(0px 1px 2px rgba(0, 0, 0, 0.3));\n",
              "      fill: #FFFFFF;\n",
              "    }\n",
              "  </style>\n",
              "\n",
              "      <script>\n",
              "        const buttonEl =\n",
              "          document.querySelector('#df-dbac4684-3d11-4aed-9238-db5dab611418 button.colab-df-convert');\n",
              "        buttonEl.style.display =\n",
              "          google.colab.kernel.accessAllowed ? 'block' : 'none';\n",
              "\n",
              "        async function convertToInteractive(key) {\n",
              "          const element = document.querySelector('#df-dbac4684-3d11-4aed-9238-db5dab611418');\n",
              "          const dataTable =\n",
              "            await google.colab.kernel.invokeFunction('convertToInteractive',\n",
              "                                                     [key], {});\n",
              "          if (!dataTable) return;\n",
              "\n",
              "          const docLinkHtml = 'Like what you see? Visit the ' +\n",
              "            '<a target=\"_blank\" href=https://colab.research.google.com/notebooks/data_table.ipynb>data table notebook</a>'\n",
              "            + ' to learn more about interactive tables.';\n",
              "          element.innerHTML = '';\n",
              "          dataTable['output_type'] = 'display_data';\n",
              "          await google.colab.output.renderOutput(dataTable, element);\n",
              "          const docLink = document.createElement('div');\n",
              "          docLink.innerHTML = docLinkHtml;\n",
              "          element.appendChild(docLink);\n",
              "        }\n",
              "      </script>\n",
              "    </div>\n",
              "  </div>\n",
              "  "
            ],
            "text/plain": [
              "                                   layers neurons  ... val_loss val_accuracy\n",
              "Базовая модель                          3      32  ...  1.16469         0.58\n",
              "Модель с увеличеной шириной сети        3      64  ...  1.01786       0.6357\n",
              "Модель с увеличенной глубиной сети      5      32  ...  1.28092        0.552\n",
              "Полносвязная сеть                       5      32  ...  1.31608       0.5459\n",
              "\n",
              "[4 rows x 6 columns]"
            ]
          },
          "execution_count": 39,
          "metadata": {},
          "output_type": "execute_result"
        }
      ],
      "source": [
        "summary_data"
      ]
    },
    {
      "cell_type": "code",
      "execution_count": null,
      "metadata": {
        "colab": {
          "base_uri": "https://localhost:8080/",
          "height": 295
        },
        "id": "tjItOiG18i8M",
        "outputId": "b3dd34ea-d28a-4096-aca0-86b4c965b595"
      },
      "outputs": [
        {
          "data": {
            "image/png": "[encoded data removed]",
            "text/plain": [
              "<Figure size 432x288 with 1 Axes>"
            ]
          },
          "metadata": {
            "needs_background": "light"
          },
          "output_type": "display_data"
        }
      ],
      "source": [
        "plt.plot(np.arange(epochs), hist.history['val_accuracy'])\n",
        "plt.title('val_accuracy полносвязная сеть', fontsize=12)\n",
        "plt.ylabel('val_accuracy')\n",
        "plt.xlabel('эпохи')\n",
        "plt.grid(True)\n",
        "plt.show()"
      ]
    },
    {
      "cell_type": "markdown",
      "metadata": {
        "id": "GrfEM_7L-wvq"
      },
      "source": [
        "Лучший результат - val_accuracy = 0.5459 это хуже чем у остальных моделей.\n",
        "\n",
        "__Вывод__: \n",
        "Полносвязная сеть показала результат хуже, чем результат всех моделей. \n",
        "\n",
        "Таким оброзом наибольший эффект для данной выборки играет увеличение количества нейронов."
      ]
    },
    {
      "cell_type": "code",
      "execution_count": null,
      "metadata": {
        "colab": {
          "base_uri": "https://localhost:8080/",
          "height": 281
        },
        "id": "Jpp7om52-oiI",
        "outputId": "f61240ed-c9b2-447c-88c5-1c98d06c1ce4"
      },
      "outputs": [
        {
          "data": {
            "image/png": "[encoded data removed]",
            "text/plain": [
              "<Figure size 432x288 with 1 Axes>"
            ]
          },
          "metadata": {
            "needs_background": "light"
          },
          "output_type": "display_data"
        }
      ],
      "source": [
        "N = 1111\n",
        "y_p=model_3.predict(x_test[N:N+1][:,:,:])\n",
        "y_t = np.argmax(y_test[N:N+1], axis = 1 )\n",
        "y_i = np.argmax(y_p, axis = 1 )\n",
        "plt.imshow(x_test[N][:,:,:])\n",
        "plt.title('это : '+classes[y_t[0]]+'- опознан как : '+classes[y_i[0]])\n",
        "plt.show()"
      ]
    }
  ],
  "metadata": {
    "colab": {
      "collapsed_sections": [],
      "provenance": []
    },
    "kernelspec": {
      "display_name": "Python 3.8 (causalml)",
      "language": "python",
      "name": "causalml-py38"
    },
    "language_info": {
      "codemirror_mode": {
        "name": "ipython",
        "version": 3
      },
      "file_extension": ".py",
      "mimetype": "text/x-python",
      "name": "python",
      "nbconvert_exporter": "python",
      "pygments_lexer": "ipython3",
      "version": "3.8.5"
    }
  },
  "nbformat": 4,
  "nbformat_minor": 0
}